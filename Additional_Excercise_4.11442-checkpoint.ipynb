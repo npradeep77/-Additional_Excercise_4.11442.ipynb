{
 "cells": [
  {
   "cell_type": "markdown",
   "metadata": {},
   "source": [
    "1) Write a Python program which accepts a list named :\n",
    "    randomList = ['a',0,2]\n",
    "\n",
    "    Use exception handling using try-catch which gives the output as:\n",
    "\n",
    "    Output\n",
    "    1) If the List element is a alphabet or string, the output will be\n",
    "    The entry is a\n",
    "    Oops! <class 'ValueError'> occured.\n",
    "\n",
    "    Next entry.\n",
    "    2) If the List element is “0”,the output will be\n",
    "    The entry is 0\n",
    "    Oops! <class 'ZeroDivisionError'> occured.\n",
    "\n",
    "    Next entry.\n",
    "    3) If the List element is and integer except 0,then output will be\n",
    "    The entry is 2\n",
    "    The reciprocal of 2 is 0.5 // reciprocal of an integer\n"
   ]
  },
  {
   "cell_type": "code",
   "execution_count": 2,
   "metadata": {},
   "outputs": [],
   "source": [
    "def list(randomList):\n",
    "    \n",
    "        for i in randomList:\n",
    "            try:\n",
    "                if str(i).isalpha():\n",
    "                    raise ValueError(\"The entry is : {a} - Oops! <class 'ValueError'> occured.\".format(a=i))\n",
    "\n",
    "                elif str(i) == '0':\n",
    "                    raise ZeroDivisionError(\"The entry is : 0 - Oops! <class 'ZeroDivisionError'> occured.\")\n",
    "                else:\n",
    "                    print(\"The entry is :\",i)\n",
    "                    print(\"Reciprocal of {a} is: {b}\".format(a=i,b=1/i))\n",
    "\n",
    "            except ValueError as ex:\n",
    "                print(ex)\n",
    "\n",
    "            except ZeroDivisionError as ex1:\n",
    "                print(ex1)"
   ]
  },
  {
   "cell_type": "code",
   "execution_count": 5,
   "metadata": {},
   "outputs": [
    {
     "name": "stdout",
     "output_type": "stream",
     "text": [
      "The entry is : 0 - Oops! <class 'ZeroDivisionError'> occured.\n",
      "The entry is : bdc - Oops! <class 'ValueError'> occured.\n",
      "The entry is : 7\n",
      "Reciprocal of 7 is: 0.14285714285714285\n"
     ]
    }
   ],
   "source": [
    "list([0,'bdc',7])"
   ]
  },
  {
   "cell_type": "code",
   "execution_count": 7,
   "metadata": {},
   "outputs": [
    {
     "name": "stdout",
     "output_type": "stream",
     "text": [
      "The entry is : 1\n",
      "Reciprocal of 1 is: 1.0\n",
      "The entry is : 2\n",
      "Reciprocal of 2 is: 0.5\n",
      "The entry is : 5\n",
      "Reciprocal of 5 is: 0.2\n"
     ]
    }
   ],
   "source": [
    "list([1,2,5])"
   ]
  },
  {
   "cell_type": "markdown",
   "metadata": {},
   "source": [
    "2) Array out of Bound Exception \n",
    "   Write a Python program to give exception “Array Out of Bound” if the user wants to access the elements beyond the list   size (use try and exce pt)\n"
   ]
  },
  {
   "cell_type": "code",
   "execution_count": 10,
   "metadata": {},
   "outputs": [],
   "source": [
    "def chk_array_index(list,index):\n",
    "    try:\n",
    "        if index> len(list):\n",
    "            raise IndexError\n",
    "        else:\n",
    "            print(\"In the given list the value of index {a} is : {b}\".format(a=index,b=list[index]))\n",
    "            \n",
    "    except IndexError as ex:\n",
    "        print(\"opps - Array out of bound\")\n",
    "        print(ex)"
   ]
  },
  {
   "cell_type": "code",
   "execution_count": 11,
   "metadata": {},
   "outputs": [
    {
     "name": "stdout",
     "output_type": "stream",
     "text": [
      "opps - Array out of bound\n",
      "list index out of range\n"
     ]
    }
   ],
   "source": [
    "chk_array_index([1,2,3],3)"
   ]
  },
  {
   "cell_type": "markdown",
   "metadata": {},
   "source": [
    "3) Write a python module script that contains fib2() method to calculate the fibonacci series till 1000 and save it as fibo.py."
   ]
  },
  {
   "cell_type": "code",
   "execution_count": null,
   "metadata": {},
   "outputs": [],
   "source": [
    "import fibo"
   ]
  },
  {
   "cell_type": "code",
   "execution_count": 13,
   "metadata": {},
   "outputs": [
    {
     "name": "stdout",
     "output_type": "stream",
     "text": [
      "[0, 1, 1, 2, 3, 5, 8, 13, 21, 34, 55, 89, 144, 233, 377, 610, 987]\n"
     ]
    }
   ],
   "source": [
    "fibo.fib2(1000)"
   ]
  },
  {
   "cell_type": "markdown",
   "metadata": {},
   "source": [
    "4) Write a python module script that contains ispalindrome() method to calculate the input string as palindrome string or not and save it as palindrome.py"
   ]
  },
  {
   "cell_type": "code",
   "execution_count": 17,
   "metadata": {},
   "outputs": [],
   "source": [
    "def reverse(s): \n",
    "    return s[::-1] \n",
    "  \n",
    "def isPalindrome(s): \n",
    "    # Calling reverse function \n",
    "    rev = reverse(s) \n",
    "  \n",
    "    # Checking if both string are equal or not \n",
    "    if (s == rev): \n",
    "        return True\n",
    "    return False\n"
   ]
  },
  {
   "cell_type": "code",
   "execution_count": 23,
   "metadata": {},
   "outputs": [
    {
     "name": "stdout",
     "output_type": "stream",
     "text": [
      "Yes\n"
     ]
    }
   ],
   "source": [
    "# Driver code \n",
    "s = \"malayalam\"\n",
    "ans = isPalindrome(s) \n",
    "  \n",
    "if ans == 1: \n",
    "    print(\"Yes\") \n",
    "else: \n",
    "    print(\"No\") \n",
    "\n"
   ]
  },
  {
   "cell_type": "code",
   "execution_count": 24,
   "metadata": {},
   "outputs": [
    {
     "name": "stdout",
     "output_type": "stream",
     "text": [
      "No\n"
     ]
    }
   ],
   "source": [
    "# Driver code \n",
    "s = \"NewDriver\"\n",
    "ans = isPalindrome(s) \n",
    "  \n",
    "if ans == 1: \n",
    "    print(\"Yes\") \n",
    "else: \n",
    "    print(\"No\") \n"
   ]
  }
 ],
 "metadata": {
  "kernelspec": {
   "display_name": "Python 3",
   "language": "python",
   "name": "python3"
  },
  "language_info": {
   "codemirror_mode": {
    "name": "ipython",
    "version": 3
   },
   "file_extension": ".py",
   "mimetype": "text/x-python",
   "name": "python",
   "nbconvert_exporter": "python",
   "pygments_lexer": "ipython3",
   "version": "3.6.5"
  }
 },
 "nbformat": 4,
 "nbformat_minor": 2
}
